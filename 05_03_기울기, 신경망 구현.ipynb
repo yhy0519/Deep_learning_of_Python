{
 "cells": [
  {
   "cell_type": "markdown",
   "metadata": {},
   "source": [
    "# ■ 신경망에서의 기울기"
   ]
  },
  {
   "cell_type": "code",
   "execution_count": 1,
   "metadata": {},
   "outputs": [
    {
     "name": "stdout",
     "output_type": "stream",
     "text": [
      "[0.31002552 0.68997448]\n"
     ]
    }
   ],
   "source": [
    "# 신경망 만들기\n",
    "\n",
    "import sys, os\n",
    "sys.path.append(os.pardir)  # 부모디렉토리의 파일들을 가져올 수 있도록 설정\n",
    "import numpy as np\n",
    "from common.functions import softmax, cross_entropy_error\n",
    "from common.gradient  import numerical_gradient\n",
    "\n",
    "z = np.array([0.1, 0.9])\n",
    "print(softmax(z))"
   ]
  },
  {
   "cell_type": "markdown",
   "metadata": {},
   "source": [
    "## 예제1. 가중치 행렬을 2x3 으로 랜덤으로 숫자를 생성해서 생성하기"
   ]
  },
  {
   "cell_type": "code",
   "execution_count": 6,
   "metadata": {
    "scrolled": true
   },
   "outputs": [
    {
     "name": "stdout",
     "output_type": "stream",
     "text": [
      "[[ 1.62434536 -0.61175641 -0.52817175]\n",
      " [-1.07296862  0.86540763 -2.3015387 ]]\n"
     ]
    }
   ],
   "source": [
    "import numpy as np\n",
    "\n",
    "np.random.seed(1)  # seed 값 설정\n",
    "W = np.random.randn(2,3)\n",
    "print(W)"
   ]
  },
  {
   "cell_type": "markdown",
   "metadata": {},
   "source": [
    "## 예제2. 아래의 입력 데이터를 1x2 행렬로 만들고 위에서 만든 가중치 행렬과 내적하시오"
   ]
  },
  {
   "cell_type": "code",
   "execution_count": 11,
   "metadata": {},
   "outputs": [
    {
     "name": "stdout",
     "output_type": "stream",
     "text": [
      "[ 0.00893546  0.41181302 -2.38828788]\n"
     ]
    }
   ],
   "source": [
    "x = np.array([0.6, 0.9])\n",
    "z = np.dot(x, W)\n",
    "\n",
    "print(z)"
   ]
  },
  {
   "cell_type": "markdown",
   "metadata": {},
   "source": [
    "## 예제3. 예제2에서 가중치 행렬과 내적해서 나온 결과 행렬을 softmax 함수에 넣어서 확률을 출력하시오"
   ]
  },
  {
   "cell_type": "code",
   "execution_count": 12,
   "metadata": {},
   "outputs": [
    {
     "name": "stdout",
     "output_type": "stream",
     "text": [
      "[0.3865341  0.57830282 0.03516308]\n"
     ]
    }
   ],
   "source": [
    "y = softmax(z)\n",
    "print(y)    # 3개의 사진을 인식하는 신경망이어서 2번째에 해당할 확률이 제일 높다는 것을 나타냄"
   ]
  },
  {
   "cell_type": "markdown",
   "metadata": {},
   "source": [
    "## 예제4. 위에 출력된 확률 벡터를 정답과 함께 오차함수에 넣어서 오차를 구해봅니다."
   ]
  },
  {
   "cell_type": "code",
   "execution_count": 13,
   "metadata": {},
   "outputs": [
    {
     "name": "stdout",
     "output_type": "stream",
     "text": [
      "0.5476574632667771\n"
     ]
    }
   ],
   "source": [
    "x = np.array([0.6, 0.9]) \n",
    "np.random.seed(1)  # seed 값 설정\n",
    "W = np.random.randn(2,3)\n",
    "t = np.array([0, 1, 0])   # 두번째가 1 이면 정답\n",
    "z = np.dot(x, W)\n",
    "y = softmax(z)\n",
    "loss = cross_entropy_error(y, t)\n",
    "print(loss)"
   ]
  },
  {
   "cell_type": "markdown",
   "metadata": {},
   "source": [
    "## 예제5. 비용함수를 생성해서 비용함수를 미분"
   ]
  },
  {
   "cell_type": "code",
   "execution_count": null,
   "metadata": {},
   "outputs": [],
   "source": [
    "f = lambda w : net.loss(x,t)  # 비용함수 생성\n",
    "dW = numerical_gradient(f, net.W)\n",
    "print(dW)  # 기울기 출력"
   ]
  },
  {
   "cell_type": "markdown",
   "metadata": {},
   "source": [
    "## 예제6. 신경망 전체 코드를 구현"
   ]
  },
  {
   "cell_type": "code",
   "execution_count": 17,
   "metadata": {},
   "outputs": [
    {
     "name": "stdout",
     "output_type": "stream",
     "text": [
      "[[ 0.25063509  0.27853375 -0.52916884]\n",
      " [ 0.37595263  0.41780063 -0.79375326]]\n"
     ]
    }
   ],
   "source": [
    "import sys, os\n",
    "sys.path.append(os.pardir)  # 부모디렉토리의 파일들을 가져올 수 있도록 설정\n",
    "import numpy as np\n",
    "from common.functions import softmax, cross_entropy_error\n",
    "from common.gradient  import numerical_gradient\n",
    "\n",
    "class simpleNet:\n",
    "    def __init__(self):   # 설계도(클래스)로 제품(객체)를 만들때 바로 실행되는 함수\n",
    "        self.W = np.random.randn(2,3)   # 랜덤으로 가중치 행렬을 생성\n",
    "        \n",
    "    def predict(self, x):   # 예측하는 함수\n",
    "        return np.dot(x, self.W) \n",
    "    \n",
    "    def loss(self, x, t):\n",
    "        z = self.predict(x)  # 입력값을 넣어서 z 값을 출력\n",
    "        y = softmax(z)  # z 값 받아서 확률벡터를 출력\n",
    "        loss = cross_entropy_error(y,t) # 확률벡터와 정답을 넣어서 오차를 출력\n",
    "        return loss\n",
    "\n",
    "x = np.array([0.6, 0.9])\n",
    "t = np.array([0,0,1])\n",
    "\n",
    "net = simpleNet()  # 클래스(2층 신경망 설계도)로 객체(제품)를 생성\n",
    "\n",
    "f = lambda w: net.loss(x, t)  # 비용함수 생성\n",
    "\n",
    "dW = numerical_gradient(f, net.W)\n",
    "print(dW)  # 기울기 출력"
   ]
  },
  {
   "cell_type": "markdown",
   "metadata": {},
   "source": [
    "설명: 가중치가 2x3 행렬이니까 기울기도 2x3 행렬로 나와야 가중치에서 기울기를 뺄 수 있다.  \n",
    "\n",
    "가중치 = 가중치 - 기울기"
   ]
  },
  {
   "cell_type": "markdown",
   "metadata": {},
   "source": [
    "## 문제83. 아래의 입력 데이터와 target (정답) 을 simplenet 에 입력하고 오차를 출력하시오\n",
    "\n",
    "    x = np.array([0.8, 0.2])\n",
    "    t = np.array([0, 0, 1])"
   ]
  },
  {
   "cell_type": "code",
   "execution_count": 18,
   "metadata": {},
   "outputs": [
    {
     "name": "stdout",
     "output_type": "stream",
     "text": [
      "1.1743467695644412\n"
     ]
    }
   ],
   "source": [
    "import numpy as np\n",
    "\n",
    "x = np.array([0.8, 0.2])\n",
    "t = np.array([0, 0, 1])\n",
    "\n",
    "net = simpleNet()  # 클래스(설계도) 로 객체(제품)를 생성합니다.\n",
    "print(net.loss(x,t))"
   ]
  },
  {
   "cell_type": "markdown",
   "metadata": {},
   "source": [
    "## 문제84. simpleNet() 클래스에 있는 가중치 행렬 W 를 출력하시오 !"
   ]
  },
  {
   "cell_type": "code",
   "execution_count": 19,
   "metadata": {},
   "outputs": [
    {
     "name": "stdout",
     "output_type": "stream",
     "text": [
      "[[-0.69166075 -0.39675353 -0.6871727 ]\n",
      " [-0.84520564 -0.67124613 -0.0126646 ]]\n"
     ]
    }
   ],
   "source": [
    "net = simpleNet()\n",
    "print( net.W )"
   ]
  },
  {
   "cell_type": "markdown",
   "metadata": {},
   "source": [
    "## 문제85. simpleNet() 클래스에 있는 predict 함수에 아래의 입력 데이터를 넣고 결과를 출력하시오 !\n",
    "\n",
    "    x = np.array([0.9, 0.6])"
   ]
  },
  {
   "cell_type": "code",
   "execution_count": 21,
   "metadata": {},
   "outputs": [
    {
     "name": "stdout",
     "output_type": "stream",
     "text": [
      "[-1.05463985  1.63775843  1.30588006]\n"
     ]
    }
   ],
   "source": [
    "x = np.array([0.9, 0.6])\n",
    "\n",
    "net = simpleNet()\n",
    "result = net.predict(x)\n",
    "print(result)"
   ]
  },
  {
   "cell_type": "markdown",
   "metadata": {},
   "source": [
    "## 문제86. simpleNet 클래스를 객체화 시켜서 실행하는데 이 신경망에 수지사진을 입력할 수 있도록 가중치 행렬의 shape 를 수정하고 수지사진을 입력해서 확률벡터를 출력하시오 ! (수지사진을 28x28 로 resize 해서 넣으세요 ~)"
   ]
  },
  {
   "cell_type": "code",
   "execution_count": 110,
   "metadata": {},
   "outputs": [
    {
     "data": {
      "text/plain": [
       "['b.jpg']"
      ]
     },
     "execution_count": 110,
     "metadata": {},
     "output_type": "execute_result"
    }
   ],
   "source": [
    "import  cv2\n",
    "import  os \n",
    "import  numpy  as np\n",
    "\n",
    "path = \"c:\\\\data\\\\data10\"\n",
    "file_list = os.listdir(path)  # path 에 지정된 위치에 있는 파일들의 이름을 불러온다.\n",
    "file_list  "
   ]
  },
  {
   "cell_type": "code",
   "execution_count": 111,
   "metadata": {},
   "outputs": [
    {
     "data": {
      "image/png": "[encoded data removed]",
      "text/plain": [
       "<Figure size 432x288 with 1 Axes>"
      ]
     },
     "metadata": {
      "needs_background": "light"
     },
     "output_type": "display_data"
    }
   ],
   "source": [
    "import numpy as np\n",
    "\n",
    "\n",
    "for k in file_list:  # 리스트 안에 있는 파일들을 하나씩 빼내는 코드\n",
    "    img = cv2.imread(path + '\\\\' + k)   # 수지 사진을 숫자행렬로 변경합니다.\n",
    "                                        #\n",
    "    width, height = img.shape[:2]  # 수지 사진 숫자 행렬에서 가로, 세로 가져온다.\n",
    "    resize_img = cv2.resize(img, (28 , 28), interpolation=cv2.INTER_CUBIC)\n",
    "    cv2.imwrite('c:\\\\data\\\\data11\\\\resize\\\\' + k, resize_img)   # resize 한 이미지를 저장합니다.\n",
    "    \n",
    "plt.imshow(resize_img)  # resize 한 수지 사진을 시각화 해라 ~\n",
    "plt.show()    "
   ]
  },
  {
   "cell_type": "code",
   "execution_count": 112,
   "metadata": {},
   "outputs": [
    {
     "data": {
      "image/png": "[encoded data removed]",
      "text/plain": [
       "<Figure size 432x288 with 1 Axes>"
      ]
     },
     "metadata": {
      "needs_background": "light"
     },
     "output_type": "display_data"
    }
   ],
   "source": [
    "j= 'c:\\\\data\\\\data11\\\\resize\\\\b.jpg'\n",
    "import numpy as np\n",
    "import matplotlib.pyplot as plt\n",
    "import matplotlib.image as mpimg\n",
    "\n",
    "def rgb2gray(rgb):\n",
    "    return np.dot(rgb[...,:3], [0.299, 0.587, 0.114])\n",
    "\n",
    "img = mpimg.imread(j)\n",
    "gray = rgb2gray(img)\n",
    "plt.imshow(gray, cmap = plt.get_cmap('gray'))\n",
    "plt.show()"
   ]
  },
  {
   "cell_type": "code",
   "execution_count": 113,
   "metadata": {
    "scrolled": true
   },
   "outputs": [
    {
     "data": {
      "text/plain": [
       "(28, 28)"
      ]
     },
     "execution_count": 113,
     "metadata": {},
     "output_type": "execute_result"
    }
   ],
   "source": [
    "gray.shape"
   ]
  },
  {
   "cell_type": "code",
   "execution_count": 114,
   "metadata": {},
   "outputs": [
    {
     "data": {
      "text/plain": [
       "(784,)"
      ]
     },
     "execution_count": 114,
     "metadata": {},
     "output_type": "execute_result"
    }
   ],
   "source": [
    "x = gray.flatten()\n",
    "x.shape"
   ]
  },
  {
   "cell_type": "code",
   "execution_count": 137,
   "metadata": {},
   "outputs": [
    {
     "name": "stdout",
     "output_type": "stream",
     "text": [
      "2\n",
      "[0. 0. 1.]\n",
      "-9.999999505838704e-08\n",
      "-0.0\n"
     ]
    }
   ],
   "source": [
    "import sys, os\n",
    "sys.path.append(os.pardir)  # 부모 디렉토리의 파일들을 가져올 수 있도록 설정\n",
    "import numpy as np\n",
    "from common.functions import softmax, cross_entropy_error\n",
    "from common.gradient  import numerical_gradient\n",
    "\n",
    "class simpleNet:\n",
    "    def __init__(self):   # 설계도(클래스)로 제품(객체)를 만들때 바로 실행되는 함수\n",
    "        self.W = np.random.randn(784,3)   # 랜덤으로 가중치 행렬을 생성\n",
    "        \n",
    "    def predict(self, x):   # 예측하는 함수\n",
    "        return np.dot(x, self.W) \n",
    "    \n",
    "    def loss(self, x, t):\n",
    "        z = self.predict(x)  # 입력값을 넣어서 z 값을 출력\n",
    "        y = softmax(z)  # z 값 받아서 확률벡터를 출력\n",
    "        loss = cross_entropy_error(y,t) # 확률벡터와 정답을 넣어서 오차를 출력\n",
    "        return y, loss\n",
    "\n",
    "t = np.array([0,0,1])\n",
    "net = simpleNet()\n",
    "p = net.predict(x)\n",
    "y, loss = net.loss(x, t)\n",
    "\n",
    "print(np.argmax(p))  # 최대값의 인덱스\n",
    "print(y)             # 확률벡터\n",
    "print(loss)          # 오차\n",
    "print(loss.round())  "
   ]
  }
 ],
 "metadata": {
  "kernelspec": {
   "display_name": "Python 3",
   "language": "python",
   "name": "python3"
  },
  "language_info": {
   "codemirror_mode": {
    "name": "ipython",
    "version": 3
   },
   "file_extension": ".py",
   "mimetype": "text/x-python",
   "name": "python",
   "nbconvert_exporter": "python",
   "pygments_lexer": "ipython3",
   "version": "3.8.3"
  },
  "toc": {
   "base_numbering": 1,
   "nav_menu": {},
   "number_sections": true,
   "sideBar": true,
   "skip_h1_title": false,
   "title_cell": "Table of Contents",
   "title_sidebar": "Contents",
   "toc_cell": false,
   "toc_position": {},
   "toc_section_display": true,
   "toc_window_display": false
  }
 },
 "nbformat": 4,
 "nbformat_minor": 4
}
