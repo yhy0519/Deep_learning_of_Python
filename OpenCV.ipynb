{
 "cells": [
  {
   "cell_type": "markdown",
   "id": "stainless-hopkins",
   "metadata": {},
   "source": [
    "# 제1강 - OpenCV 설치\n",
    "\n",
    "https://076923.github.io/posts/Python-opencv-1/"
   ]
  },
  {
   "cell_type": "markdown",
   "id": "foreign-hazard",
   "metadata": {},
   "source": [
    "## OpenCV\n",
    "\n",
    "OpenCV는 Open Source Computer Vision Library의 약어로 오픈소스 컴퓨터 비전 라이브러리이다.  \n",
    "실시간 영상 처리에 중점을 둔 영상 처리 라이브러리로서, Apache 2.0 라이선스하에 배포되어 학술적 용도 외에도 상업적 용도로도 사용할 수 있다.  \n",
    "OpenCV는 계산 효율성과 실시간 처리에 중점을 두고 설계되었다.  \n",
    "500가지가 넘는 알고리즘이 최적화돼 있으며 이 알고리즘을 구성하거나 지원하는 함수는 알고리즘 수의 10배가 넘는다.   \n",
    "물체 인식, 얼굴 인식, 제스처 인식을 비롯해 자율주행 자동차, OCR 판독기, 불량 검사기 등에 활용할 수 있다.  "
   ]
  },
  {
   "cell_type": "markdown",
   "id": "preceding-possession",
   "metadata": {},
   "source": [
    "## OpenCV 설치\n",
    "\n",
    "Python OpenCV는 다음과 같은 네 종류의 패키지를 제공한다.  \n",
    "\n",
    "    opencv-python\n",
    "    opencv-contrib-python\n",
    "    opencv-python-headless\n",
    "    opencv-contrib-python-headless\n",
    "\n",
    "contrib 가 포함된 패키지는 확장 모듈이 포함된 패키지이며, 추가 모듈이 포함된 OpenCV를 설치한다.  \n",
    "headliss 가 포함된 패키지는 GUI 라이브러리 종속성이 없어 서버환경(Docker, Colud)에서 사용할 수 있는 OpenCv 를 설치한다.  \n",
    "특별한 경우가 아니라면, 일반적으로 opencv-python 패키지를 사용한다. pip 을 통하여 설치 가능  \n",
    "\n",
    "    python -m pip install opencv-python"
   ]
  },
  {
   "cell_type": "code",
   "execution_count": 2,
   "id": "hispanic-substitute",
   "metadata": {},
   "outputs": [
    {
     "name": "stdout",
     "output_type": "stream",
     "text": [
      "4.5.1\n"
     ]
    }
   ],
   "source": [
    "import cv2\n",
    "print(cv2.__version__)"
   ]
  },
  {
   "cell_type": "markdown",
   "id": "multiple-innocent",
   "metadata": {},
   "source": [
    "# 제 2강 - 카메라 출력\n",
    "\n",
    "https://076923.github.io/posts/Python-opencv-2/\n",
    "\n",
    "jupyter notebook 에서 실시"
   ]
  },
  {
   "cell_type": "code",
   "execution_count": 3,
   "id": "ceramic-frontier",
   "metadata": {},
   "outputs": [],
   "source": [
    "import cv2\n",
    "\n",
    "# 비디오 출력 클래스\n",
    "capture = cv2.VideoCapture(0)  # 내장 또는 외장 카메라에서 정보를 받아온다. \n",
    "                               # 노트북의 경우, 일반적으로 내장 카메라가 존재하므로 index 는 0이 된다.\n",
    "                               # 외장 카메라를 사용하는 경우, 장치 번호가 1~n 까지 순차적으로 할당된다.\n",
    "\n",
    "# 카메라 속성 설정 메서드 \n",
    "# capture.set(propid, value)\n",
    "# propid : 변경하려는 카메라 설정, value : 카메라 설정의 속성값\n",
    "capture.set(cv2.CAP_PROP_FRAME_WIDTH, 640)    # 너비 640\n",
    "capture.set(cv2.CAP_PROP_FRAME_HEIGHT, 480)   # 높이 480\n",
    "\n",
    "# 카메라 프레임을 지속적으로 받아온다.\n",
    "while cv2.waitKey(33) < 0:    # 키 입력 대기 함수 : cv2.waitkey(delay:지연시간) => 33초 마다 반복문 실행\n",
    "                              # 밀린 초 단위의 지연시간 동안 키 입력을 기다리며 입력이 없을 경우 다음 구문을 실행한다.\n",
    "                              # 키 입력 대기 함수는 입력된 키의 아스키 코드 값을 반환\n",
    "                              # delay가 0일 경우, 지속적으로 키 입력을 검사하여 프레임이 넘어가지 않는다.\n",
    "                              # while cv2.waitKey(33) != ord('q'):으로 사용할 경우, q가 입력될 때 while문을 종료\n",
    "    ret, frame = capture.read()  # 프레임 읽기 메서드 : capture.read\n",
    "                                 # 카메라의 상태 및 프레임을 받아온다.\n",
    "                                 # ret : 카메라의 상태가 저장되며 정상 작동할 경우 True 를 반환.\n",
    "                                 # frame : 현재 시점의 프레임이 저장\n",
    "    cv2.imshow(\"VideoFrame\", frame)  # 이미지 표시 함수 : 특정 윈도우 창에 이미지를 띄웁니다.\n",
    "                                     # cv2.inshow(winname, mat)\n",
    "                                     # winname : 윈도우 창의 제목으로 문자열로 표시하며, 할당한 문자열이 변수와 비슷한 역할을 한다.\n",
    "                                     # mat : 이미지를 의미하며, 윈도우 창에 할당할 이미지를 의미\n",
    "\n",
    "# 메모리 해제 메서드 : 카메라 장치에서 받아온 메모리를 해제\n",
    "capture.release()\n",
    "# 모든 윈도우 창 제거 함수\n",
    "# cv2.destoryWindow(winname) : 특정 윈도우 창만 닫기\n",
    "cv2.destroyAllWindows()\n",
    "\n",
    "# Esc 키를 눌러 끌 수 있음"
   ]
  },
  {
   "cell_type": "markdown",
   "id": "rural-watch",
   "metadata": {},
   "source": [
    "# 제 3강 - 이미지 출력\n",
    "\n",
    "https://076923.github.io/posts/Python-opencv-3/"
   ]
  },
  {
   "cell_type": "markdown",
   "id": "wireless-kinase",
   "metadata": {},
   "source": [
    "## 이미지 출력\n",
    "\n",
    "OpenCV는 래스터 그래픽스 이미지 파일 포맷을 쉽게 불러올 수 있는 별도의 함수를 제공한다.  \n",
    "이 함수는 불러온 압축 해제된 이미지 데이터 구조에 필요한 메모리 할당과 같은 복잡한 작업을 처리하며, 파일 시그니처(File Signature)를 읽어 적절한 코덱을 결정한다.  \n",
    "OpenCV에서 이미지를 불러올 때는 확장자를 확인하는 방식이 아닌 파일 시그니처를 읽어 파일의 포맷을 분석한다.  \n",
    "파일 시그니처는 파일 매직 넘버(File Magic Number)라고도 하며, 각 파일 형식마다 몇 개의 바이트가 지정되어 있다.  \n",
    "예를 들어, PNG 확장자의 경우 89 50 4E 47 … 형태로 파일 헤더에 포함되어 있다.  \n",
    "이미지 입력 함수는 운영체제의 코덱을 사용해 운영체제 별로 픽셀값이 다를 수 있습니다."
   ]
  },
  {
   "cell_type": "code",
   "execution_count": 11,
   "id": "regional-milan",
   "metadata": {},
   "outputs": [],
   "source": [
    "import cv2\n",
    "\n",
    "# cv2.imread : 이미지 입력 함수 를 통해 로컬 경로의 이미지 파일을 읽어올 수 있다.\n",
    "# cv2.imread(fileName, flags)\n",
    "# fileName : 파일경로로 상대경로 또는 절대경로를 사용하여 이미지를 불러온다.\n",
    "# flags : 플래그로 이미지를 초기에 불러올 때 저굥할 초기상태를 의미한다.\n",
    "image = cv2.imread(\"C:\\\\Users\\\\jjku0\\\\OneDrive\\\\Image\\\\lunar.jpg\", cv2.IMREAD_ANYCOLOR)\n",
    "\n",
    "# cv2.imshow : 이미지 표시 함수 와 cv2.waitKey : 키 입력 대기 함수 를 이용하여 윈도우 창에 이미지를 띄울 수 있다.\n",
    "# 키 입력 대기함수를 사용하지 않을 경우, 윈도우 창이 유지되지 않고 프로그램이 종료된다.\n",
    "cv2.imshow(\"Moon\", image)\n",
    "cv2.waitKey()\n",
    "\n",
    "# 모든 윈도우창 제거 함수를 이용하여 윈도우 창을 닫는다.\n",
    "cv2.destroyAllWindows()"
   ]
  },
  {
   "cell_type": "markdown",
   "id": "retained-meditation",
   "metadata": {},
   "source": [
    "## ■ flags\n",
    "\n",
    "    cv2.IMREAD_UNCHANGED : 원본 사용\n",
    "    cv2.IMREAD_GRAYSCALE : 1 채널, 그레이스케일 적용\n",
    "    cv2.IMREAD_COLOR : 3 채널, BGR 이미지 사용\n",
    "    cv2.IMREAD_ANYDEPTH : 이미지에 따라 정밀도를 16/32비트 또는 8비트로 사용\n",
    "    cv2.IMREAD_ANYCOLOR : 가능한 3 채널, 색상 이미지로 사용\n",
    "    cv2.IMREAD_REDUCED_GRAYSCALE_2 : 1 채널, 1/2 크기, 그레이스케일 적용\n",
    "    cv2.IMREAD_REDUCED_GRAYSCALE_4 : 1 채널, 1/4 크기, 그레이스케일 적용\n",
    "    cv2.IMREAD_REDUCED_GRAYSCALE_8 : 1 채널, 1/8 크기, 그레이스케일 적용\n",
    "    cv2.IMREAD_REDUCED_COLOR_2 : 3 채널, 1/2 크기, BGR 이미지 사용\n",
    "    cv2.IMREAD_REDUCED_COLOR_4 : 3 채널, 1/4 크기, BGR 이미지 사용\n",
    "    cv2.IMREAD_REDUCED_COLOR_8 : 3 채널, 1/8 크기, BGR 이미지 사용"
   ]
  },
  {
   "cell_type": "code",
   "execution_count": 12,
   "id": "interested-province",
   "metadata": {},
   "outputs": [
    {
     "name": "stdout",
     "output_type": "stream",
     "text": [
      "1280 1920 3\n"
     ]
    }
   ],
   "source": [
    "# 해당 이미지의 높이, 너비, 채널 값을 확인\n",
    "# 이미지의 속성은 크기, 정밀도, 채널을 주요한 속성으로 사용\n",
    "# 크기 : 이미지의 높이와 너비를 의미\n",
    "# 정밀도 : 이미지의 처리 결과의 정밀성을 의미\n",
    "# 채널 : 이미지의 색상 정보를 의미\n",
    "# 유효 비트가 많을 수록 더 정밀해진다.\n",
    "# 채널이 3일 경우, 다색 이미지 이며 채널이 1일 경우 단색 이미지 이다.\n",
    "height, width, channel = image.shape\n",
    "print(height, width , channel)"
   ]
  },
  {
   "cell_type": "markdown",
   "id": "welcome-applicant",
   "metadata": {},
   "source": [
    "# 제 4강 - 비디오 출력\n",
    "\n",
    "https://076923.github.io/posts/Python-opencv-4/"
   ]
  },
  {
   "cell_type": "markdown",
   "id": "concerned-phase",
   "metadata": {},
   "source": [
    "## 비디오 출력\n",
    "\n",
    "동영상 파일에서 순차적으로 프레임을 읽어 이미지의 형태로 출력한다.  \n",
    "동영상 파일을 읽으려면 컴퓨터에 동영상 코덱을 읽을 수 있는 라이브러리가 설치되어 있어야 한다.  \n",
    "OpenCv는 FFmpeg 를 지원하므로 * .avi 나 * .mp4 등 다양한 형식의 동영상 파일을 손쉽게 읽을 수 있다.  \n",
    "이미지 파일 중, GIF 확장자는 프레임이 존재하므로, 동영상 파일을 읽는 방법과 동일하게 처리합니다."
   ]
  },
  {
   "cell_type": "code",
   "execution_count": 13,
   "id": "transparent-williams",
   "metadata": {},
   "outputs": [],
   "source": [
    "import cv2\n",
    "\n",
    "# 비디오 출력 클래스 를 통해 동영상 파일에서 정보를 받아온다.\n",
    "# cv2.VideoCapture(fileName:파일경로)\n",
    "capture = cv2.VideoCapture(\"C:\\\\Users\\\\jjku0\\\\OneDrive\\\\data\\\\jupyter\\\\yolo\\\\yolo_1.mp4\")\n",
    "\n",
    "while cv2.waitKey(33) < 0:\n",
    "    if capture.get(cv2.CAP_PROP_POS_FRAMES) == capture.get(cv2.CAP_PROP_FRAME_COUNT):  # 비디오 속성 반환 메서드\n",
    "                           # cv2.CAP_PROP_POS_FRAMES : 동영상 현재 프레임 수, cv2.CAP_PROP_FRAME_COUNT : 동영상 총 프레임 수\n",
    "        capture.set(cv2.CAP_PROP_POS_FRAMES, 0)  # 동영상의 현재 프레임을 초기화\n",
    "                          # 동영상의 현재 프레임수 == 동영상의 총 프레임수가 같아지면 동영상의 현재 프레임을 초기화\n",
    "                          # 또는, 동영상 파일 읽기 메서드(capture.open)를 이용하여 다시 동영상 파일을 불러올 수도 있다.\n",
    "        \n",
    "    ret, frame = capture.read()\n",
    "    cv2.imshow(\"VideoFrame\", frame)\n",
    "\n",
    "capture.release()\n",
    "cv2.destroyAllWindows()"
   ]
  },
  {
   "cell_type": "markdown",
   "id": "genuine-bangladesh",
   "metadata": {},
   "source": [
    "## VideoCapture 메서드\n",
    "\n",
    "         메서드\t                   의미\n",
    "    capture.isOpened()\t        동영상 파일 열기 성공 여부 확인\n",
    "    capture.open(filename)   \t동영상 파일 열기\n",
    "    capture.set(propid, value)\t동영상 속성 설정\n",
    "    capture.get(propid)     \t동영상 속성 반환\n",
    "    capture.release()\t        동영상 파일을 닫고 메모리 해제\n",
    "\n",
    "\n",
    "\n",
    "## VideoCapture 속성\n",
    "\n",
    "           속성\t                   의미\t               비고\n",
    "    cv2.CAP_PROP_FRAME_WIDTH\t프레임의 너비\t               -\n",
    "    cv2.CAP_PROP_FRAME_HEIGHT\t프레임의 높이\t               -\n",
    "    cv2.CAP_PROP_FRAME_COUNT\t총 프레임 수  \t            -\n",
    "    cv2.CAP_PROP_FPS        \t프레임 속도\t                -\n",
    "    cv2.CAP_PROP_FOURCC\t        코덱 코드\t                 -\n",
    "    cv2.CAP_PROP_BRIGHTNESS  \t이미지 밝기\t           카메라만 해당\n",
    "    cv2.CAP_PROP_CONTRAST\t    이미지 대비\t           카메라만 해당\n",
    "    cv2.CAP_PROP_SATURATION\t    이미지 채도\t           카메라만 해당\n",
    "    cv2.CAP_PROP_HUE\t        이미지 색상\t           카메라만 해당\n",
    "    cv2.CAP_PROP_GAIN        \t이미지 게인\t           카메라만 해당\n",
    "    cv2.CAP_PROP_EXPOSURE\t    이미지 노출\t           카메라만 해당\n",
    "    cv2.CAP_PROP_POS_MSEC\t    프레임 재생 시간\t     ms 반환\n",
    "    cv2.CAP_PROP_POS_FRAMES\t    현재 프레임\t           프레임의 총 개수 미만\n",
    "    CAP_PROP_POS_AVI_RATIO\t    비디오 파일 상대 위치   0 = 시작, 1 = 끝"
   ]
  },
  {
   "cell_type": "markdown",
   "id": "weekly-chorus",
   "metadata": {},
   "source": [
    "# 제 5강 - 대칭\n",
    "\n",
    "https://076923.github.io/posts/Python-opencv-5/"
   ]
  },
  {
   "cell_type": "markdown",
   "id": "adapted-price",
   "metadata": {},
   "source": [
    "## 대칭 (Flip, Symmetry)\n",
    "\n",
    "대칭(Flip)은 기하학적인 측면에서 반사(reflection)의 의미를 갖는다.  \n",
    "2차원 유클리드 공간에서의 기하학적인 변환의 하나로 $R^2$(2차원 유클리드 공간) 위의 선형 변환을 진행한다.  \n",
    "대칭은 변환할 행렬(이미지)에 대해 2X2 행렬을 왼쪽 곱셈을 진행한다. 즉, 'p' 형태의 물체에 Y 축 대칭을 적용한다면 'q' 형태를 갖게 된다.  \n",
    "그러므로, 원본 행렬(이미지)에 각 축에 대한 대칭을 적용했을 때, 단순히 원본 행렬에서 축에 따라 재매핑을 적용하면 대칭된 행렬을 얻을 수 있다."
   ]
  },
  {
   "cell_type": "code",
   "execution_count": 15,
   "id": "judicial-attendance",
   "metadata": {},
   "outputs": [],
   "source": [
    "import cv2\n",
    "\n",
    "# 이미지 입력 함수를 통해 원본 이미지로 사용할 src 를 선언하고 로컬 경로에서 이미지 파일을 읽어 온다.\n",
    "src = cv2.imread(\"C:\\\\Users\\\\jjku0\\\\OneDrive\\\\Image\\\\glass.jpg\", cv2.IMREAD_COLOR)\n",
    "\n",
    "# 대칭 함수로 이미지를 대칭할 수 있다.\n",
    "dst = cv2.flip(src, 0)  # dst = cv2.flip(src, flipCode)\n",
    "                        # 원본 이미지(src)에 대칭 축(flipCode)을 기준으로 대칭한 출력 이미지(dst)를 반환한다.\n",
    "                        # 대칭 축은 상수를 입력해 대칭할 축을 설정할 수 있다.\n",
    "                        # flipCode < 0 은 XY 축 대칭(상하좌우 대칭)을 적용\n",
    "                        # flipCode = 0 은 X 축 대칭(상하 대칭)을 적용\n",
    "                        # flipCode < 0 은 Y 축 대칭(좌우 대칭)을 적용\n",
    "\n",
    "# 이미지 표시 함수\n",
    "# 이미지 표시 함수는 여러 개의 운도우 창을 띄울 수 있으며, 동일한 이미지도 여러 개의 윈도우 창으로도 띄울 수 있다.\n",
    "# 단, 윈도우 창의 제목은 중복되지 않게 작성한다.\n",
    "cv2.imshow(\"src\", src)\n",
    "cv2.imshow(\"dst\", dst)\n",
    "\n",
    "# 키 입력 대기 함수로 키가 입력될 때 까지 윈도우 창이 유지되도록 구성한다.\n",
    "cv2.waitKey()\n",
    "# 키 입력 이후, 모든 윈도우 창 제거 함수를 이용하여 모든 윈도우 창을 닫는다.\n",
    "cv2.destroyAllWindows()"
   ]
  },
  {
   "cell_type": "markdown",
   "id": "amazing-literacy",
   "metadata": {},
   "source": [
    "# 제 6강 - 회전\n",
    "\n",
    "https://076923.github.io/posts/Python-opencv-6/"
   ]
  },
  {
   "cell_type": "code",
   "execution_count": null,
   "id": "structural-syndicate",
   "metadata": {},
   "outputs": [],
   "source": []
  },
  {
   "cell_type": "code",
   "execution_count": null,
   "id": "korean-windows",
   "metadata": {},
   "outputs": [],
   "source": []
  }
 ],
 "metadata": {
  "kernelspec": {
   "display_name": "Python 3",
   "language": "python",
   "name": "python3"
  },
  "language_info": {
   "codemirror_mode": {
    "name": "ipython",
    "version": 3
   },
   "file_extension": ".py",
   "mimetype": "text/x-python",
   "name": "python",
   "nbconvert_exporter": "python",
   "pygments_lexer": "ipython3",
   "version": "3.8.8"
  },
  "toc": {
   "base_numbering": 1,
   "nav_menu": {},
   "number_sections": true,
   "sideBar": true,
   "skip_h1_title": false,
   "title_cell": "Table of Contents",
   "title_sidebar": "Contents",
   "toc_cell": false,
   "toc_position": {},
   "toc_section_display": true,
   "toc_window_display": true
  }
 },
 "nbformat": 4,
 "nbformat_minor": 5
}
