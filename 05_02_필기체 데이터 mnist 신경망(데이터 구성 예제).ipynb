{
 "cells": [
  {
   "cell_type": "markdown",
   "metadata": {},
   "source": [
    "# ■ 수지 사진 resize 하고 흑백처리 (신경망에 입력되기 전 데이터 구성)"
   ]
  },
  {
   "cell_type": "markdown",
   "metadata": {},
   "source": [
    "## 1. c:\\\\data 폴더 아래에 a.jpg 를 가져다 둡니다."
   ]
  },
  {
   "cell_type": "markdown",
   "metadata": {},
   "source": [
    "## 2. 아나콘다 프롬프트창을 열고 cv2 모듈을 설치합니다.\n",
    "\n",
    "    pip install opencv-python"
   ]
  },
  {
   "cell_type": "markdown",
   "metadata": {},
   "source": [
    "## 3. c:\\\\data 폴더 밑에 있는 파일들의 이름을 불러옵니다."
   ]
  },
  {
   "cell_type": "code",
   "execution_count": 4,
   "metadata": {
    "scrolled": true
   },
   "outputs": [
    {
     "data": {
      "text/plain": [
       "['a.jpg']"
      ]
     },
     "execution_count": 4,
     "metadata": {},
     "output_type": "execute_result"
    }
   ],
   "source": [
    "import  cv2\n",
    "import  os \n",
    "import  numpy  as np\n",
    "\n",
    "path = \"c:\\\\data\\\\data10\"\n",
    "file_list = os.listdir(path)  # path 에 지정된 위치에 있는 파일들의 이름을 불러온다.\n",
    "file_list  "
   ]
  },
  {
   "cell_type": "markdown",
   "metadata": {},
   "source": [
    "## 4. 수지 사진을 resize 합니다."
   ]
  },
  {
   "cell_type": "code",
   "execution_count": 5,
   "metadata": {},
   "outputs": [
    {
     "data": {
      "image/png": "[encoded data removed]",
      "text/plain": [
       "<Figure size 432x288 with 1 Axes>"
      ]
     },
     "metadata": {
      "needs_background": "light"
     },
     "output_type": "display_data"
    }
   ],
   "source": [
    "import numpy as np\n",
    "import matplotlib.pyplot as plt\n",
    "import matplotlib.image as mpimg\n",
    "\n",
    "for k in file_list:  # 리스트 안에 있는 파일들을 하나씩 빼내는 코드\n",
    "    img = cv2.imread(path + '\\\\' + k)   # 수지 사진을 숫자행렬로 변경합니다.\n",
    "                                        \n",
    "    width, height = img.shape[:2]  # 수지 사진 숫자 행렬에서 가로, 세로 가져온다.\n",
    "    resize_img = cv2.resize(img, (28 , 28), interpolation=cv2.INTER_CUBIC)\n",
    "    cv2.imwrite('c:\\\\data\\\\data11\\\\resize\\\\' + k, resize_img)   # resize 한 이미지를 저장합니다.\n",
    "    \n",
    "plt.imshow(resize_img)  # resize 한 수지 사진을 시각화 해라 ~\n",
    "plt.show()    "
   ]
  },
  {
   "cell_type": "markdown",
   "metadata": {},
   "source": [
    "## 5. 수지 사진을 흑백으로 변경합니다."
   ]
  },
  {
   "cell_type": "code",
   "execution_count": 6,
   "metadata": {
    "scrolled": true
   },
   "outputs": [
    {
     "data": {
      "image/png": "[encoded data removed]",
      "text/plain": [
       "<Figure size 432x288 with 1 Axes>"
      ]
     },
     "metadata": {
      "needs_background": "light"
     },
     "output_type": "display_data"
    }
   ],
   "source": [
    "j= 'c:\\\\data\\\\data11\\\\resize\\\\a.jpg'\n",
    "import numpy as np\n",
    "import matplotlib.pyplot as plt\n",
    "import matplotlib.image as mpimg\n",
    "\n",
    "def rgb2gray(rgb):\n",
    "    return np.dot(rgb[...,:3], [0.299, 0.587, 0.114])   # 흑백 변경\n",
    "\n",
    "img = mpimg.imread(j)\n",
    "gray = rgb2gray(img)\n",
    "plt.imshow(gray, cmap = plt.get_cmap('gray'))\n",
    "plt.show()"
   ]
  },
  {
   "cell_type": "code",
   "execution_count": 25,
   "metadata": {},
   "outputs": [
    {
     "data": {
      "text/plain": [
       "(28, 28)"
      ]
     },
     "execution_count": 25,
     "metadata": {},
     "output_type": "execute_result"
    }
   ],
   "source": [
    "gray.shape"
   ]
  },
  {
   "cell_type": "markdown",
   "metadata": {},
   "source": [
    "수지 사진을 1차원으로 바꾼다."
   ]
  },
  {
   "cell_type": "code",
   "execution_count": 26,
   "metadata": {},
   "outputs": [
    {
     "data": {
      "text/plain": [
       "(784,)"
      ]
     },
     "execution_count": 26,
     "metadata": {},
     "output_type": "execute_result"
    }
   ],
   "source": [
    "gray.shape\n",
    "x = gray.flatten()\n",
    "x.shape"
   ]
  },
  {
   "cell_type": "markdown",
   "metadata": {},
   "source": [
    "##  6. 수지 사진을 mnist 신경망에 넣습니다."
   ]
  },
  {
   "cell_type": "code",
   "execution_count": 29,
   "metadata": {},
   "outputs": [
    {
     "name": "stdout",
     "output_type": "stream",
     "text": [
      "3\n"
     ]
    },
    {
     "name": "stderr",
     "output_type": "stream",
     "text": [
      "c:\\data\\jupyter\\deep_learning\\2021.03.10\\common.py:11: RuntimeWarning: overflow encountered in exp\n",
      "  return 1 / (1 + np.exp(-x) )\n"
     ]
    }
   ],
   "source": [
    "import numpy as np\n",
    "import  pickle\n",
    "from common import  sigmoid, softmax\n",
    "from  dataset.mnist  import  load_mnist \n",
    "\n",
    "# 1. 파이썬 기초 ---> 2. 함수를 생성 ----> 3. 함수로 클래스를 생성 \n",
    "class Three_nn():\n",
    "    import numpy as np\n",
    "    import  pickle\n",
    "    from common import  sigmoid, softmax\n",
    "    from  dataset.mnist  import  load_mnist \n",
    "    \n",
    "    def init_network(self):\n",
    "        import  pickle\n",
    "        with  open(\"c:\\\\data\\\\sample_weight.pkl\", \"rb\")  as  f:\n",
    "            network = pickle.load(f)\n",
    "        return  network \n",
    "\n",
    "    # 1. 데이터를 불러옵니다. ( 얀르쿤 교수님이 만든 필기체 데이터)\n",
    "    def get_data(self):\n",
    "        (x_train, t_train), (x_test, t_test) = load_mnist(flatten=True, normalize=True,  one_hot_label=False) \n",
    "        return  x_train, t_train \n",
    "\n",
    "    # 2. 가중치와 바이어스 값을 불러와서 3층 신경망에 흘려보내는 함수 \n",
    "\n",
    "    def predict(self, network, x):\n",
    "        #network = init_network()\n",
    "        w1, w2, w3 = network['W1'], network['W2'], network['W3']\n",
    "        b1, b2, b3 = network['b1'], network['b2'], network['b3']\n",
    "\n",
    "        # 3. 신경망을 구성합니다. \n",
    "        # 0층\n",
    "        # x = x_train[0:100]  # 일단 10개의 필기체 데이터를 구성합니다. \n",
    "        # 1층\n",
    "        y = np.dot(x,w1) + b1\n",
    "        y_hat = sigmoid(y)\n",
    "        # 2층\n",
    "        z = np.dot(y_hat, w2) + b2\n",
    "        z_hat = sigmoid(z)\n",
    "        # 3층\n",
    "        k = np.dot(z_hat, w3) + b3\n",
    "        k_hat =  softmax(k)\n",
    "        return  k_hat\n",
    "\n",
    "n1 = Three_nn()  # 객체화 시킨다. 설계도 가지고 제품을 만든다. \n",
    "\n",
    "#x, t = n1.get_data()  #  테스트 데이터와 테스트 데이터의 정답을 불러오는 코드\n",
    "network = n1.init_network()  # 저자가 만들어온 가중치와 바이어스를 불러오는 코드 \n",
    "\n",
    "result = n1.predict( network, x )\n",
    "print (np.argmax(result) ) "
   ]
  },
  {
   "cell_type": "markdown",
   "metadata": {},
   "source": [
    "## 문제82. 다른 수지사진을 신경망에 넣고 어떤 숫자가 나오는지 확인하시오 !"
   ]
  },
  {
   "cell_type": "code",
   "execution_count": 34,
   "metadata": {},
   "outputs": [
    {
     "data": {
      "text/plain": [
       "['b.jpg']"
      ]
     },
     "execution_count": 34,
     "metadata": {},
     "output_type": "execute_result"
    }
   ],
   "source": [
    "import  cv2\n",
    "import  os \n",
    "import  numpy  as np\n",
    "\n",
    "path = \"c:\\\\data\\\\data10\"\n",
    "file_list = os.listdir(path)  # path 에 지정된 위치에 있는 파일들의 이름을 불러온다.\n",
    "file_list  "
   ]
  },
  {
   "cell_type": "code",
   "execution_count": 35,
   "metadata": {},
   "outputs": [
    {
     "data": {
      "image/png": "[encoded data removed]",
      "text/plain": [
       "<Figure size 432x288 with 1 Axes>"
      ]
     },
     "metadata": {
      "needs_background": "light"
     },
     "output_type": "display_data"
    }
   ],
   "source": [
    "import numpy as np\n",
    "import matplotlib.pyplot as plt\n",
    "import matplotlib.image as mpimg\n",
    "\n",
    "for k in file_list:  # 리스트 안에 있는 파일들을 하나씩 빼내는 코드\n",
    "    img = cv2.imread(path + '\\\\' + k)   # 수지 사진을 숫자행렬로 변경합니다.\n",
    "                                        #\n",
    "    width, height = img.shape[:2]  # 수지 사진 숫자 행렬에서 가로, 세로 가져온다.\n",
    "    resize_img = cv2.resize(img, (28 , 28), interpolation=cv2.INTER_CUBIC)\n",
    "    cv2.imwrite('c:\\\\data\\\\data11\\\\resize\\\\' + k, resize_img)   # resize 한 이미지를 저장합니다.\n",
    "    \n",
    "plt.imshow(resize_img)  # resize 한 수지 사진을 시각화 해라 ~\n",
    "plt.show()    "
   ]
  },
  {
   "cell_type": "code",
   "execution_count": 37,
   "metadata": {},
   "outputs": [
    {
     "data": {
      "image/png": "[encoded data removed]",
      "text/plain": [
       "<Figure size 432x288 with 1 Axes>"
      ]
     },
     "metadata": {
      "needs_background": "light"
     },
     "output_type": "display_data"
    }
   ],
   "source": [
    "j= 'c:\\\\data\\\\data11\\\\resize\\\\b.jpg'\n",
    "import numpy as np\n",
    "import matplotlib.pyplot as plt\n",
    "import matplotlib.image as mpimg\n",
    "\n",
    "def rgb2gray(rgb):\n",
    "    return np.dot(rgb[...,:3], [0.299, 0.587, 0.114])\n",
    "\n",
    "img = mpimg.imread(j)\n",
    "gray = rgb2gray(img)\n",
    "plt.imshow(gray, cmap = plt.get_cmap('gray'))\n",
    "plt.show()"
   ]
  },
  {
   "cell_type": "code",
   "execution_count": 38,
   "metadata": {},
   "outputs": [
    {
     "data": {
      "text/plain": [
       "(784,)"
      ]
     },
     "execution_count": 38,
     "metadata": {},
     "output_type": "execute_result"
    }
   ],
   "source": [
    "gray.shape\n",
    "x = gray.flatten()\n",
    "x.shape"
   ]
  },
  {
   "cell_type": "code",
   "execution_count": 39,
   "metadata": {},
   "outputs": [
    {
     "name": "stdout",
     "output_type": "stream",
     "text": [
      "5\n"
     ]
    },
    {
     "name": "stderr",
     "output_type": "stream",
     "text": [
      "c:\\data\\jupyter\\deep_learning\\2021.03.10\\common.py:11: RuntimeWarning: overflow encountered in exp\n",
      "  return 1 / (1 + np.exp(-x) )\n"
     ]
    }
   ],
   "source": [
    "import numpy as np\n",
    "import  pickle\n",
    "from common import  sigmoid, softmax\n",
    "from  dataset.mnist  import  load_mnist \n",
    "\n",
    "# 1. 파이썬 기초 ---> 2. 함수를 생성 ----> 3. 함수로 클래스를 생성 \n",
    "class Three_nn():\n",
    "    import numpy as np\n",
    "    import  pickle\n",
    "    from common import  sigmoid, softmax\n",
    "    from  dataset.mnist  import  load_mnist \n",
    "    \n",
    "    def  init_network(self):\n",
    "        import  pickle\n",
    "        with  open(\"c:\\\\data\\\\sample_weight.pkl\", \"rb\")  as  f:\n",
    "            network = pickle.load(f)\n",
    "        return  network \n",
    "\n",
    "    # 1. 데이터를 불러옵니다. ( 얀르쿤 교수님이 만든 필기체 데이터)\n",
    "    def get_data(self):\n",
    "        (x_train, t_train), (x_test, t_test) = load_mnist(flatten=True, normalize=True,  one_hot_label=False) \n",
    "        return  x_train, t_train \n",
    "\n",
    "    # 2. 가중치와 바이어스 값을 불러와서 3층 신경망에 흘려보내는 함수 \n",
    "\n",
    "    def predict(self, network, x):\n",
    "        #network = init_network()\n",
    "        w1, w2, w3 = network['W1'], network['W2'], network['W3']\n",
    "        b1, b2, b3 = network['b1'], network['b2'], network['b3']\n",
    "\n",
    "        # 3. 신경망을 구성합니다. \n",
    "        # 0층\n",
    "        # x = x_train[0:100]  # 일단 10개의 필기체 데이터를 구성합니다. \n",
    "        # 1층\n",
    "        y = np.dot(x,w1) + b1\n",
    "        y_hat = sigmoid(y)\n",
    "        # 2층\n",
    "        z = np.dot(y_hat, w2) + b2\n",
    "        z_hat = sigmoid(z)\n",
    "        # 3층\n",
    "        k = np.dot(z_hat, w3) + b3\n",
    "        k_hat =  softmax(k)\n",
    "        return  k_hat\n",
    "\n",
    "n1 = Three_nn()  # 객체화 시킨다. 설계도 가지고 제품을 만든다. \n",
    "\n",
    "#x, t = n1.get_data()  #  테스트 데이터와 테스트 데이터의 정답을 불러오는 코드\n",
    "network = n1.init_network()  # 저자가 만들어온 가중치와 바이어스를 불러오는 코드 \n",
    "\n",
    "result = n1.predict( network, x )\n",
    "print (np.argmax(result) ) "
   ]
  }
 ],
 "metadata": {
  "kernelspec": {
   "display_name": "Python 3",
   "language": "python",
   "name": "python3"
  },
  "language_info": {
   "codemirror_mode": {
    "name": "ipython",
    "version": 3
   },
   "file_extension": ".py",
   "mimetype": "text/x-python",
   "name": "python",
   "nbconvert_exporter": "python",
   "pygments_lexer": "ipython3",
   "version": "3.8.3"
  },
  "toc": {
   "base_numbering": 1,
   "nav_menu": {},
   "number_sections": true,
   "sideBar": true,
   "skip_h1_title": false,
   "title_cell": "Table of Contents",
   "title_sidebar": "Contents",
   "toc_cell": false,
   "toc_position": {},
   "toc_section_display": true,
   "toc_window_display": false
  }
 },
 "nbformat": 4,
 "nbformat_minor": 4
}
