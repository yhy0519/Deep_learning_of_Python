{
 "cells": [
  {
   "cell_type": "markdown",
   "metadata": {},
   "source": [
    "# ■ 출력층 함수\n",
    "\n",
    " \" 출력층의 함수는 그동안 흘러왔던 확률들의 숫자를 취합해서 결론을 내줘야하는 함수 \"  \n",
    "\n",
    "신경망으로 구현하고자 하는 문제\n",
    "\n",
    "    1. 회귀 ?  항등함수 ---> 입력값을 받아 그대로 출력하는 함수\n",
    "\n",
    "    예: R 을 활용한 머신러닝때 콘크리트 강도 예측하는 머신러닝 모델을 생성\n",
    "        이때는 분류를 한게 아니라 회귀를 통한 수치를 예측(콘크리트 강도)\n",
    "\n",
    "    독립변수 : 콘크리트 재료: 자갈 200kg, 시멘트 20 포대 …..\n",
    "    종속변수 : 콘크리트 강도\n",
    "\n",
    "    2. 분류 ?  소프트맥스 함수 ---> 책 p91의 식 3.10\n",
    "\t    \t\t: 입력값을 받아서 확률벡터로 출력하는 함수\n",
    "\n",
    "\t정상 폐사진 vs 폐결절 사진, 수화동작을 글로 출력하는 신경망"
   ]
  },
  {
   "cell_type": "markdown",
   "metadata": {},
   "source": [
    "# ■ 출력층 함수인 소프트맥스 함수 생성"
   ]
  },
  {
   "cell_type": "markdown",
   "metadata": {},
   "source": [
    "$$y_k = \\frac{exp(a_k)}{\\sum_{i=1}^n exp(a_k)}$$"
   ]
  },
  {
   "cell_type": "markdown",
   "metadata": {},
   "source": [
    "위의 식을 파이썬으로 그대로 만들면 에러가 나서 구현이 안됩니다.  \n",
    "왜냐하면 지수함수는 아주 큰 값을 쉽게 출력하기 때문에   \n",
    "컴퓨터는 큰 값이 출력이 되면 overflow 가 출력되면서 에러가 납니다.  \n",
    "위의 수학식을 컴퓨터로 구현할 수 있게 하려면 아래와 같이 전해해줘야 합니다.  "
   ]
  },
  {
   "cell_type": "markdown",
   "metadata": {},
   "source": [
    "$$y_k = \\frac{exp(a_k)}{\\sum_{i=1}^n exp(a_i)} = \\frac{C exp(a_k)}{C  \\sum_{i=1}^n exp(a_i)}=\\frac{exp(a_k+\\log C)}{\\sum_{i=1}^n exp(a_i+\\log C)}=\\frac{exp(a_k+\\hat {C})}{\\sum_{i=1}^n exp(a_i+ \\hat{C})}$$"
   ]
  },
  {
   "cell_type": "markdown",
   "metadata": {},
   "source": [
    "소프트맥스 함수의 자연상수의 지수함수는 아주 큰 값을 출력합니다.  \n",
    "자연상수 e 의 10승은 20000 이 넘고 e 의 100승 숫자 40개가 넘고  \n",
    "e 의 1000승은 무한대를 뜻하는 inf 가 출력됩니다. 그래서 계산을 할 수 없습니다."
   ]
  },
  {
   "cell_type": "markdown",
   "metadata": {},
   "source": [
    "## 예시"
   ]
  },
  {
   "cell_type": "code",
   "execution_count": 1,
   "metadata": {
    "scrolled": true
   },
   "outputs": [
    {
     "name": "stdout",
     "output_type": "stream",
     "text": [
      "22026.465794806718\n",
      "2.6881171418161356e+43\n",
      "inf\n"
     ]
    },
    {
     "name": "stderr",
     "output_type": "stream",
     "text": [
      "<ipython-input-1-53d45450e635>:4: RuntimeWarning: overflow encountered in exp\n",
      "  print( np.exp(1000) )\n"
     ]
    }
   ],
   "source": [
    "import numpy as np\n",
    "print( np.exp(10) )\n",
    "print( np.exp(100) )\n",
    "print( np.exp(1000) )"
   ]
  },
  {
   "cell_type": "markdown",
   "metadata": {},
   "source": [
    "## 예시. 이를 해결하기 위해서 입력 신호 값들의 최대값에서 각각의 요소의 값을 빼줍니다."
   ]
  },
  {
   "cell_type": "code",
   "execution_count": 2,
   "metadata": {
    "scrolled": false
   },
   "outputs": [
    {
     "name": "stdout",
     "output_type": "stream",
     "text": [
      "[inf inf inf]\n"
     ]
    },
    {
     "name": "stderr",
     "output_type": "stream",
     "text": [
      "<ipython-input-2-1a074ef2ffcb>:3: RuntimeWarning: overflow encountered in exp\n",
      "  print( np.exp(a) )\n"
     ]
    }
   ],
   "source": [
    "import numpy as np\n",
    "a = np.array([1010, 1000, 990])\n",
    "print( np.exp(a) )"
   ]
  },
  {
   "cell_type": "code",
   "execution_count": 3,
   "metadata": {},
   "outputs": [
    {
     "name": "stdout",
     "output_type": "stream",
     "text": [
      "[1.00000000e+00 4.53999298e-05 2.06115362e-09]\n"
     ]
    }
   ],
   "source": [
    "import numpy as np\n",
    "a = np.array([1010, 1000, 990])\n",
    "C = np.max(a)\n",
    "minus = a - C\n",
    "print( np.exp(minus) )"
   ]
  },
  {
   "cell_type": "markdown",
   "metadata": {},
   "source": [
    "## 위의 코드를 이용해서 소프트 맥스 함수 구현하기 (아래 식의 분자 구현)\n",
    "\n",
    "$$y_k = \\frac{exp(a_k)}{\\sum_{i=1}^n exp(a_i)} = \\frac{C exp(a_k)}{C  \\sum_{i=1}^n exp(a_i)}=\\frac{exp(a_k+\\log C)}{\\sum_{i=1}^n exp(a_i+\\log C)}=\\frac{exp(a_k+\\hat {C})}{\\sum_{i=1}^n exp(a_i+ \\hat{C})}$$"
   ]
  },
  {
   "cell_type": "code",
   "execution_count": 4,
   "metadata": {},
   "outputs": [
    {
     "name": "stdout",
     "output_type": "stream",
     "text": [
      "[1.00000000e+00 4.53999298e-05 2.06115362e-09]\n"
     ]
    }
   ],
   "source": [
    "a = np.array([1010, 1000, 990])\n",
    "\n",
    "def softmax(a):\n",
    "    C = np.max(a)\n",
    "    minus = a - C\n",
    "    np_exp = np.exp(minus)\n",
    "    return np_exp\n",
    "\n",
    "print(softmax(a))"
   ]
  },
  {
   "cell_type": "markdown",
   "metadata": {},
   "source": [
    "## 분모까지 포함해서 구현하면 ?"
   ]
  },
  {
   "cell_type": "code",
   "execution_count": 5,
   "metadata": {},
   "outputs": [
    {
     "name": "stdout",
     "output_type": "stream",
     "text": [
      "[9.99954600e-01 4.53978686e-05 2.06106005e-09]\n"
     ]
    }
   ],
   "source": [
    "import numpy as np\n",
    "\n",
    "a = np.array([1010, 1000, 990])\n",
    "\n",
    "def softmax(a):\n",
    "    C = np.max(a)\n",
    "    minus = a - C\n",
    "    exp_a = np.exp(minus)\n",
    "    sum_exp_a = np.sum(exp_a)\n",
    "    y = exp_a / sum_exp_a\n",
    "    return y\n",
    "\n",
    "print(softmax(a))"
   ]
  },
  {
   "cell_type": "markdown",
   "metadata": {},
   "source": [
    "## 문제46. 위의 결과 리스트의 요소를 다 더하면 숫자 1인지 출력하시오"
   ]
  },
  {
   "cell_type": "code",
   "execution_count": 6,
   "metadata": {},
   "outputs": [
    {
     "name": "stdout",
     "output_type": "stream",
     "text": [
      "1.0\n"
     ]
    }
   ],
   "source": [
    "import numpy as np\n",
    "\n",
    "a = np.array([1010, 1000, 990])\n",
    "\n",
    "def softmax(a):\n",
    "    C = np.max(a)\n",
    "    minus = a - C\n",
    "    exp_a = np.exp(minus)\n",
    "    sum_exp_a = np.sum(exp_a)\n",
    "    y = exp_a / sum_exp_a\n",
    "    return y\n",
    "\n",
    "print( np.sum(softmax(a)))"
   ]
  },
  {
   "cell_type": "markdown",
   "metadata": {},
   "source": [
    "## 문제47. 위의 결과 리스트 요소 3개중에 어떤게 가장 큰 값인지 인덱스 번호로 출력하시오"
   ]
  },
  {
   "cell_type": "code",
   "execution_count": 7,
   "metadata": {},
   "outputs": [
    {
     "name": "stdout",
     "output_type": "stream",
     "text": [
      "0\n"
     ]
    }
   ],
   "source": [
    "import numpy as np\n",
    "\n",
    "a = np.array([1010, 1000, 990])\n",
    "\n",
    "def softmax(a):\n",
    "    C = np.max(a)\n",
    "    minus = a - C\n",
    "    exp_a = np.exp(minus)\n",
    "    sum_exp_a = np.sum(exp_a)\n",
    "    y = exp_a / sum_exp_a\n",
    "    return y\n",
    "\n",
    "print( np.argmax(softmax(a)) )   "
   ]
  },
  {
   "cell_type": "markdown",
   "metadata": {},
   "source": [
    "※ np.argmax : numpy 리스트 요소중 큰 값의 인덱스 번호를 출력하는 함수"
   ]
  },
  {
   "cell_type": "markdown",
   "metadata": {},
   "source": [
    "## 문제48. 방금 만든 소프트맥스 함수를 문제45번에 만든 3층 신경망 맨 끝 출력층에 k 값을 입력받도록 구현하시오! 출력은 k_hat 으로 하세요"
   ]
  },
  {
   "cell_type": "code",
   "execution_count": 8,
   "metadata": {},
   "outputs": [
    {
     "name": "stdout",
     "output_type": "stream",
     "text": [
      "[0.11920296 0.88079704]\n"
     ]
    }
   ],
   "source": [
    "import numpy as np\n",
    "\n",
    "# 신경망 함수들\n",
    "def sigmoid(x):\n",
    "    return 1 / (1 + np.exp(-x) )\n",
    "\n",
    "def softmax(a):\n",
    "    C = np.max(a)\n",
    "    minus = a - C\n",
    "    exp_a = np.exp(minus)\n",
    "    sum_exp_a = np.sum(exp_a)\n",
    "    y = exp_a / sum_exp_a\n",
    "    return y\n",
    "\n",
    "# 0층\n",
    "x = np.array( [1,2] )\n",
    "\n",
    "# 1층\n",
    "w1 = np.array([[1,3,5], [2,4,6]])\n",
    "y = np.dot(x,w1)\n",
    "y_hat = sigmoid(y)\n",
    "\n",
    "# 2층\n",
    "w2 = np.array([[3,4], [5,6], [7,8]])\n",
    "z = np.dot(y_hat, w2)\n",
    "z_hat = sigmoid(z)\n",
    "\n",
    "# 3층\n",
    "w3 = np.array([[4,5], [6,7]])\n",
    "k = np.dot(z_hat, w3)\n",
    "k_hat = softmax(k)\n",
    "print(k_hat)"
   ]
  },
  {
   "cell_type": "markdown",
   "metadata": {},
   "source": [
    "## 문제49. 위의 3층 신경망 코드에서 w1, w2, w3 가중치를 하나로 모아서 심플한 코드로 작성하시오 !\n",
    "\n",
    " \" 딕셔너리를 활용하면 됩니다. \"  \n",
    "\n",
    "** 파이썬의 자료형 5가지\n",
    "\n",
    "    1. 문자형  \n",
    "    2. 숫자형  \n",
    "    3. 리스트형  \n",
    "    4. 딕셔너리형 : 키와 값으로 구성되어 있는 자료구조\n",
    "    5. 튜플"
   ]
  },
  {
   "cell_type": "code",
   "execution_count": 2,
   "metadata": {},
   "outputs": [
    {
     "name": "stdout",
     "output_type": "stream",
     "text": [
      "[0.11920296 0.88079704]\n"
     ]
    }
   ],
   "source": [
    "import numpy as np\n",
    "\n",
    "def init_network():\n",
    "    network = {}  # 비어있는 딕셔너리 생성\n",
    "    network['W1'] = np.array([[1,3,5], [2,4,6]])\n",
    "    network['W2'] = np.array([[3,4], [5,6], [7,8]])\n",
    "    network['W3'] = np.array([[4,5], [6,7]]) \n",
    "    return network\n",
    "\n",
    "# 가중치 값을 불러온다.\n",
    "network = init_network()\n",
    "w1, w2, w3 = network['W1'], network['W2'], network['W3']\n",
    "\n",
    "# 신경망 함수들\n",
    "def sigmoid(x):\n",
    "    return 1 / (1 + np.exp(-x) )\n",
    "\n",
    "def softmax(a):\n",
    "    C = np.max(a)\n",
    "    minus = a - C\n",
    "    exp_a = np.exp(minus)\n",
    "    sum_exp_a = np.sum(exp_a)\n",
    "    y = exp_a / sum_exp_a\n",
    "    return y\n",
    "\n",
    "# 0층\n",
    "x = np.array( [1,2] )\n",
    "\n",
    "# 1층\n",
    "y = np.dot(x,w1)\n",
    "y_hat = sigmoid(y)\n",
    "\n",
    "# 2층\n",
    "z = np.dot(y_hat, w2)\n",
    "z_hat = sigmoid(z)\n",
    "\n",
    "# 3층\n",
    "k = np.dot(z_hat, w3)\n",
    "k_hat = softmax(k)\n",
    "print(k_hat)"
   ]
  },
  {
   "cell_type": "markdown",
   "metadata": {},
   "source": [
    "## 문제50. 위의 sigmoid, softmax, init_network 함수코드를 common.py 라는 이름으로 메모장에 저장하고 파이썬의 워킹디렉토리에 저장하시오 !"
   ]
  },
  {
   "cell_type": "code",
   "execution_count": 10,
   "metadata": {},
   "outputs": [
    {
     "data": {
      "text/plain": [
       "'c:\\\\data\\\\jupyter\\\\deep_learning\\\\2021.03.08'"
      ]
     },
     "execution_count": 10,
     "metadata": {},
     "output_type": "execute_result"
    }
   ],
   "source": [
    "%pwd   # 워킹 디렉토리 확인"
   ]
  },
  {
   "cell_type": "markdown",
   "metadata": {},
   "source": [
    "<common.py>"
   ]
  },
  {
   "cell_type": "code",
   "execution_count": null,
   "metadata": {},
   "outputs": [],
   "source": [
    "import numpy as np\n",
    "\n",
    "def init_network():\n",
    "    network = {}  # 비어있는 딕셔너리 생성\n",
    "    network['W1'] = np.array([[1,3,5], [2,4,6]])\n",
    "    network['W2'] = np.array([[3,4], [5,6], [7,8]])\n",
    "    network['W3'] = np.array([[4,5], [6,7]]) \n",
    "    return network\n",
    "\n",
    "# 신경망 함수들\n",
    "def sigmoid(x):\n",
    "    return 1 / (1 + np.exp(-x) )\n",
    "\n",
    "def softmax(a):\n",
    "    C = np.max(a)\n",
    "    minus = a - C\n",
    "    exp_a = np.exp(minus)\n",
    "    sum_exp_a = np.sum(exp_a)\n",
    "    y = exp_a / sum_exp_a\n",
    "    return y"
   ]
  },
  {
   "cell_type": "code",
   "execution_count": 1,
   "metadata": {
    "scrolled": true
   },
   "outputs": [
    {
     "name": "stdout",
     "output_type": "stream",
     "text": [
      "[0.11920296 0.88079704]\n"
     ]
    }
   ],
   "source": [
    "import numpy as np\n",
    "from common import init_network, sigmoid, softmax\n",
    "\n",
    "# 가중치 값을 불러온다.\n",
    "network = init_network()\n",
    "w1, w2, w3 = network['W1'], network['W2'], network['W3']\n",
    "\n",
    "# 0층\n",
    "x = np.array( [1,2] )\n",
    "\n",
    "# 1층\n",
    "y = np.dot(x,w1)\n",
    "y_hat = sigmoid(y)\n",
    "\n",
    "# 2층\n",
    "z = np.dot(y_hat, w2)\n",
    "z_hat = sigmoid(z)\n",
    "\n",
    "# 3층\n",
    "k = np.dot(z_hat, w3)\n",
    "k_hat = softmax(k)\n",
    "print(k_hat)"
   ]
  }
 ],
 "metadata": {
  "kernelspec": {
   "display_name": "Python 3",
   "language": "python",
   "name": "python3"
  },
  "language_info": {
   "codemirror_mode": {
    "name": "ipython",
    "version": 3
   },
   "file_extension": ".py",
   "mimetype": "text/x-python",
   "name": "python",
   "nbconvert_exporter": "python",
   "pygments_lexer": "ipython3",
   "version": "3.8.5"
  },
  "toc": {
   "base_numbering": 1,
   "nav_menu": {},
   "number_sections": true,
   "sideBar": true,
   "skip_h1_title": false,
   "title_cell": "Table of Contents",
   "title_sidebar": "Contents",
   "toc_cell": false,
   "toc_position": {},
   "toc_section_display": true,
   "toc_window_display": true
  }
 },
 "nbformat": 4,
 "nbformat_minor": 4
}
