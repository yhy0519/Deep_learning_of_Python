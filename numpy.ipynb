{
 "cells": [
  {
   "cell_type": "markdown",
   "metadata": {},
   "source": [
    "# ■ 넘파이(numpy) 배열 생성하기\n",
    "\n",
    "numpy 란 ? \n",
    "\n",
    "python 언어에서 기본적으로 지원하지 않는 배열(array) 혹은 행렬(matrix) 의 계산을 쉽게 해주는 라이브러리  \n",
    "머신러닝에서 많이 사용하는 선형대수학에 관련된 수식들을 python 에서 쉽게 프로그래밍 할 수 있게 해줍니다."
   ]
  },
  {
   "cell_type": "markdown",
   "metadata": {},
   "source": [
    "## 문제1. 아래의 행렬을 numpy 로 만드시오 !\n",
    "\n",
    "$$\\begin{pmatrix} 1 & 2 \\\\ 3 & 4 \\end{pmatrix}$$"
   ]
  },
  {
   "cell_type": "code",
   "execution_count": 1,
   "metadata": {},
   "outputs": [
    {
     "name": "stdout",
     "output_type": "stream",
     "text": [
      "[[1 2]\n",
      " [3 4]]\n"
     ]
    }
   ],
   "source": [
    "import numpy as np\n",
    "a = np.array( [ [1,2], [3,4] ] )\n",
    "print(a)"
   ]
  },
  {
   "cell_type": "markdown",
   "metadata": {},
   "source": [
    "## 문제2. 위의 a 행렬의 각 요소에 숫자 5를 더하시오"
   ]
  },
  {
   "cell_type": "code",
   "execution_count": null,
   "metadata": {},
   "outputs": [],
   "source": [
    "import numpy as np\n",
    "a = np.array( [ [1,2], [3,4] ] )\n",
    "print(a+5)"
   ]
  },
  {
   "cell_type": "markdown",
   "metadata": {},
   "source": [
    "## 문제3. 아래의 두 행렬의 합을 구하시오 !\n",
    "\n",
    "$$\\begin{pmatrix} 1 & 5 \\\\ 6 & 7 \\end{pmatrix} + \\begin{pmatrix} 3 & 4 \\\\ 2 & 1 \\end{pmatrix}$$"
   ]
  },
  {
   "cell_type": "code",
   "execution_count": 2,
   "metadata": {},
   "outputs": [
    {
     "name": "stdout",
     "output_type": "stream",
     "text": [
      "[[4 9]\n",
      " [8 8]]\n"
     ]
    }
   ],
   "source": [
    "import numpy as np\n",
    "a = np.array( [ [1,5], [6,7] ] )\n",
    "b = np.array( [ [3,4], [2,1] ] )\n",
    "print(a+b)"
   ]
  },
  {
   "attachments": {
    "image.png": {
     "image/png": "[encoded data removed]"
    }
   },
   "cell_type": "markdown",
   "metadata": {},
   "source": [
    "## ※ numpy 의 유용한 기능 중 하나인 브로드캐스트(broadcast) ?\n",
    "\n",
    "넘파이에서는 형상이 다른 배열끼리도 계산을 할 수 있습니다.  \n",
    "아래의 경우처럼 10이라는 스칼라 값이 2x2 행렬로 확대된 후 연산이 이루어지는 것을\n",
    "브로드 캐스트라고 합니다.  \n",
    "\n",
    "<div>\n",
    "<img src=\"attachment:image.png\" width=\"400\"/>\n",
    "</div>"
   ]
  },
  {
   "cell_type": "markdown",
   "metadata": {},
   "source": [
    "## 문제4. 위 그림의 브로드 캐스트 기능을 numpy 로 구현하시오"
   ]
  },
  {
   "cell_type": "code",
   "execution_count": 3,
   "metadata": {},
   "outputs": [
    {
     "name": "stdout",
     "output_type": "stream",
     "text": [
      "[[10 20]\n",
      " [30 40]]\n"
     ]
    }
   ],
   "source": [
    "import numpy as np\n",
    "a = np.array( [ [1,2], [3,4] ] )\n",
    "b = a*10\n",
    "print(b)"
   ]
  },
  {
   "attachments": {},
   "cell_type": "markdown",
   "metadata": {},
   "source": [
    "## 문제5. 아래의 그림의 브로드 캐스트가 되는지 테스트 하시오\n",
    "\n",
    "<div>    \n",
    "<img src=\"attachment:image-2.png\" width=\"400\"/>\n",
    "</div>"
   ]
  },
  {
   "cell_type": "code",
   "execution_count": 4,
   "metadata": {},
   "outputs": [
    {
     "name": "stdout",
     "output_type": "stream",
     "text": [
      "[[10 40]\n",
      " [30 80]]\n"
     ]
    }
   ],
   "source": [
    "import numpy as np\n",
    "a = np.array( [ [1,2], [3,4] ] )\n",
    "b = np.array( [10,20] )\n",
    "print(a*b)"
   ]
  },
  {
   "attachments": {},
   "cell_type": "markdown",
   "metadata": {},
   "source": [
    "## 문제6. 아래의 신경망을 numpy 행렬로 구현하시오 !\n",
    "\n",
    "\n",
    "<div>    \n",
    "<img src=\"attachment:image-3.png\" width=\"400\"/>\n",
    "</div>"
   ]
  },
  {
   "cell_type": "code",
   "execution_count": 5,
   "metadata": {},
   "outputs": [
    {
     "name": "stdout",
     "output_type": "stream",
     "text": [
      "36\n"
     ]
    }
   ],
   "source": [
    "import numpy as np\n",
    "x = np.array( [2,4,8] )\n",
    "w = np.array( [4,3,2] )\n",
    "k = np.sum(x*w)\n",
    "print(k)"
   ]
  },
  {
   "attachments": {},
   "cell_type": "markdown",
   "metadata": {},
   "source": [
    "## 문제7. 아래의 신경망을 numpy 행렬로 구현하시오 ! (힌트: np.dot(x,w))\n",
    "\n",
    "\n",
    "<div>    \n",
    "<img src=\"attachment:image-4.png\" width=\"400\"/>\n",
    "</div>"
   ]
  },
  {
   "cell_type": "code",
   "execution_count": 6,
   "metadata": {},
   "outputs": [
    {
     "name": "stdout",
     "output_type": "stream",
     "text": [
      "[ 5 11 17]\n"
     ]
    }
   ],
   "source": [
    "import numpy as np\n",
    "x = np.array( [1,2] )\n",
    "w = np.array( [[1,3,5], [2,4,6]] )\n",
    "k = np.dot(x,w)   # 내적 함수\n",
    "print(k)"
   ]
  },
  {
   "attachments": {},
   "cell_type": "markdown",
   "metadata": {},
   "source": [
    "## 문제8. 아래의 신경망을 numpy 로 구현하시오 !\n",
    "\n",
    "\n",
    "<div>    \n",
    "<img src=\"attachment:image-5.png\" width=\"400\"/>\n",
    "</div>"
   ]
  },
  {
   "cell_type": "code",
   "execution_count": 7,
   "metadata": {},
   "outputs": [
    {
     "name": "stdout",
     "output_type": "stream",
     "text": [
      "[189 222]\n"
     ]
    }
   ],
   "source": [
    "import numpy as np\n",
    "x = np.array( [1,2] )  # 입력값 행렬(0층)\n",
    "w1 = np.array( [[1,3,5], [2,4,6]] )  # 가중치 행렬1\n",
    "w2 = np.array( [[3,4], [5,6], [7,8]] )   # 가중치 행렬2\n",
    "k = np.dot(x,w1)  # 1층\n",
    "m = np.dot(k,w2)  # 2층\n",
    "print(m)"
   ]
  },
  {
   "cell_type": "markdown",
   "metadata": {},
   "source": [
    "# ■ 넘파이(Numpy) N차원 배열\n",
    "\n",
    "넘파이는 1차원 배열(1줄로 늘어선 배열) 뿐만 아니라 다차원 배열로도 작성할 수 있습니다."
   ]
  },
  {
   "cell_type": "markdown",
   "metadata": {},
   "source": [
    "## 예제"
   ]
  },
  {
   "cell_type": "code",
   "execution_count": 8,
   "metadata": {},
   "outputs": [
    {
     "name": "stdout",
     "output_type": "stream",
     "text": [
      "(2, 2)\n"
     ]
    }
   ],
   "source": [
    "import numpy as np\n",
    "x = np.array( [ [1,2],[3,4] ] )\n",
    "print(x.shape)  # (2, 2)"
   ]
  },
  {
   "cell_type": "markdown",
   "metadata": {},
   "source": [
    "## 문제9. 아래와 같이 5x5 행렬을 생성하시오 !\n",
    "\n",
    "$$\\begin{pmatrix} 1 & 2 & 3 & 4 & 5 \\\\ 2 & 4 & 3 & 2 & 4 \\\\ 3 & 1 & 4 & 2 &1 \\\\2 & 7 & 3 & 5 & 4 \\\\ 1 & 5 & 6 & 3 & 1 \\end{pmatrix}$$"
   ]
  },
  {
   "cell_type": "code",
   "execution_count": 9,
   "metadata": {},
   "outputs": [
    {
     "name": "stdout",
     "output_type": "stream",
     "text": [
      "(5, 5)\n"
     ]
    }
   ],
   "source": [
    "x = np.array([[1,2,3,4,5],[2,4,3,2,4],[3,1,4,2,1],[2,7,3,5,4],[1,5,6,3,1]])\n",
    "print(x.shape)"
   ]
  },
  {
   "cell_type": "markdown",
   "metadata": {},
   "source": [
    "## ※ 넘파이 배열(np.array) 은 N차원 배열을 작성할 수 있습니다.\n",
    "\n",
    "1차원 배열, 2차원 배열, 3차원 배열처럼 원하는 차수의 배열을 만들 수 있습니다.  \n",
    "수학에서는 1차원 배열을 벡터(vector) 라고 하고 2차원 배열을 행렬(matrix) 라고 부릅니다.  \n",
    "또 벡터와 행렬을 일반화한 것을 텐서(tensor) 라 합니다.  \n",
    "\n",
    "    tensor   flow   ------------->  행렬이 계산되면서 흘러간다.\n",
    "      ↓      ↓\n",
    "    다차원   흐름\n",
    "\n",
    "구글에서 만든 텐서 플로우는 다차원 배열의 연산(계산)을 빠르게 할 수 있도록 구현이 되어져 있습니다.  \n",
    "\n",
    " 1. 코드가 간결하다.  \n",
    " 2. 신경망 구현에 필요한 모든 함수들이 다 내장되어 있다.  \n",
    " 3. 속도가 아주 빠르다. (코딩도 빠르고 실행도 빠르다)  \n",
    " 4. GPU 를 사용할 수 있다."
   ]
  },
  {
   "cell_type": "markdown",
   "metadata": {},
   "source": [
    "## 문제10. 아래의 행렬의 내적을 구현하시오 !\n",
    "\n",
    "$$\\begin{pmatrix} 3 & 4 & 2 \\\\ 4 & 1 & 3 \\end{pmatrix} ⊙ \\begin{pmatrix} 1 & 5 \\\\ 2 & 3 \\\\ 4 & 1 \\end{pmatrix}$$"
   ]
  },
  {
   "cell_type": "code",
   "execution_count": 10,
   "metadata": {},
   "outputs": [
    {
     "name": "stdout",
     "output_type": "stream",
     "text": [
      "[[19 29]\n",
      " [18 26]]\n"
     ]
    }
   ],
   "source": [
    "import numpy as np\n",
    "\n",
    "a = np.array([[3,4,2],[4,1,3]])\n",
    "b = np.array([[1,5],[2,3],[4,1]])\n",
    "c = np.dot(a,b)\n",
    "print(c)"
   ]
  },
  {
   "cell_type": "markdown",
   "metadata": {},
   "source": [
    "# ■ 넘파이(Numpy) 원소접근\n",
    "\n",
    "numpy 배열안에 요소들에 대한 접근은 numpy 를 이용하지 않았을때 보다 훨씬 간단하게 구현할 수 있습니다."
   ]
  },
  {
   "cell_type": "markdown",
   "metadata": {},
   "source": [
    "## 문제11. 아래의 리스트를 만들고 아래의 리스트에서 15 이상인 숫자들만 출력하시오 !\n",
    "\n",
    "    [51, 55, 14, 19, 0, 4]"
   ]
  },
  {
   "cell_type": "code",
   "execution_count": 11,
   "metadata": {},
   "outputs": [
    {
     "name": "stdout",
     "output_type": "stream",
     "text": [
      "[51, 55, 19]\n"
     ]
    }
   ],
   "source": [
    "a = [51, 55, 14, 19, 0, 4]\n",
    "b = []\n",
    "for i in a:\n",
    "    if i >= 15:\n",
    "        b.append(i)\n",
    "print(b)"
   ]
  },
  {
   "cell_type": "markdown",
   "metadata": {},
   "source": [
    "## 문제12. 아래의 행렬식을 만들고 아래의 행렬의 요소에서 15 이상인 것만 출력하시오 (numpy 이용하지 않고 수행하세요)  \n",
    "\n",
    "$$ \\begin{pmatrix} 51 & 55 \\\\ 14 & 19  \\\\ 0 & 4\\end{pmatrix}$$\n",
    "\n",
    "    a = [[51,55], [14,19], [0,4]]\n",
    "\n",
    "    결과: [51, 55, 19]"
   ]
  },
  {
   "cell_type": "code",
   "execution_count": 12,
   "metadata": {},
   "outputs": [
    {
     "name": "stdout",
     "output_type": "stream",
     "text": [
      "[51, 55, 19]\n"
     ]
    }
   ],
   "source": [
    "a = [[51,55], [14,19], [0,4]]\n",
    "b = []\n",
    "for i in a:\n",
    "    for j in i:\n",
    "        if j >= 15:\n",
    "            b.append(j)\n",
    "print(b)"
   ]
  },
  {
   "cell_type": "markdown",
   "metadata": {},
   "source": [
    "## 문제13. 문제 12번을 numpy 를 이용해서 구현하시오\n",
    "\n",
    "    a = [[51,55], [14,19], [0,4]]"
   ]
  },
  {
   "cell_type": "code",
   "execution_count": 13,
   "metadata": {},
   "outputs": [
    {
     "name": "stdout",
     "output_type": "stream",
     "text": [
      "[51 55 19]\n"
     ]
    }
   ],
   "source": [
    "import numpy as np\n",
    "\n",
    "a = [[51,55], [14,19], [0,4]]\n",
    "b = np.array(a)\n",
    "print( b[b >= 15] )    # 설명: b[ 조건 ]"
   ]
  },
  {
   "cell_type": "markdown",
   "metadata": {},
   "source": [
    "설명: numpy 를 이용하면 코딩을 어렵게 안해도 됩니다. 쉽고 빠르게 원하는 것을 구현할 수 있습니다."
   ]
  },
  {
   "cell_type": "markdown",
   "metadata": {},
   "source": [
    "## 문제14. 아래의 행렬을 만들고 아래의 행렬에서 3 이상인 것만 출력하시오\n",
    "\n",
    "$$ \\begin{pmatrix} 5.1 & 3.5 &1.4&0.2\\\\ 4.9 & 3 & 1.4&0.2  \\\\ 4.7 & 3.2&1.3&0.2\\\\4.6&3.1&1.5&0.2\\end{pmatrix}$$"
   ]
  },
  {
   "cell_type": "code",
   "execution_count": 14,
   "metadata": {},
   "outputs": [
    {
     "name": "stdout",
     "output_type": "stream",
     "text": [
      "[5.1 3.5 4.9 3.  4.7 3.2 4.6 3.1]\n"
     ]
    }
   ],
   "source": [
    "a = [[5.1, 3.5, 1.4, 0.2], [4.9, 3, 1.4, 0.2], [4.7, 3.2, 1.3, 0.2], [4.6, 3.1, 1.5, 0.2]]\n",
    "b = np.array(a)\n",
    "print( b[b >= 3] )"
   ]
  },
  {
   "cell_type": "markdown",
   "metadata": {},
   "source": [
    "# ■ Matplotlib 로 그래프 그리기\n",
    "\n",
    "신경망에서 사용하는 그래프는 주로 라인 그래프 입니다.  \n",
    "정확도가 점점 올라가는지 아니면 에러(오차)가 점점 떨어지는지 확인할 때 유용합니다."
   ]
  },
  {
   "cell_type": "markdown",
   "metadata": {},
   "source": [
    "## 예제1. 파이썬으로 산포도 그래프 그리는 방법"
   ]
  },
  {
   "cell_type": "code",
   "execution_count": 15,
   "metadata": {},
   "outputs": [
    {
     "data": {
      "image/png": "[encoded data removed]",
      "text/plain": [
       "<Figure size 432x288 with 1 Axes>"
      ]
     },
     "metadata": {
      "needs_background": "light"
     },
     "output_type": "display_data"
    }
   ],
   "source": [
    "import numpy as np\n",
    "import matplotlib.pyplot as plt\n",
    "\n",
    "x = np.array([0, 1, 2, 3, 4, 5, 6, 7, 8, 9])\n",
    "y = np.array([9, 8, 7, 9, 8, 3, 2, 4, 3, 4])\n",
    "\n",
    "plt.scatter(x, y, color='red', s=80)  # s 는 점사이즈 입니다.\n",
    "plt.show()"
   ]
  },
  {
   "cell_type": "markdown",
   "metadata": {},
   "source": [
    "## 문제15. 위의 그래프를 라인 그래프로 그리시오"
   ]
  },
  {
   "cell_type": "code",
   "execution_count": 16,
   "metadata": {},
   "outputs": [
    {
     "data": {
      "image/png": "[encoded data removed]",
      "text/plain": [
       "<Figure size 432x288 with 1 Axes>"
      ]
     },
     "metadata": {
      "needs_background": "light"
     },
     "output_type": "display_data"
    }
   ],
   "source": [
    "import numpy as np\n",
    "import matplotlib.pyplot as plt\n",
    "\n",
    "x = np.array([0, 1, 2, 3, 4, 5, 6, 7, 8, 9])\n",
    "y = np.array([9, 8, 7, 9, 8, 3, 2, 4, 3, 4])\n",
    "\n",
    "plt.plot(x, y, color='red')  # 산포도일때는 scatter, 라인일때는 plot\n",
    "plt.show()"
   ]
  },
  {
   "cell_type": "markdown",
   "metadata": {},
   "source": [
    "## 문제16. 위의 그래프에 제목을 \"신경망 오차 그래프\" 라고 하시오"
   ]
  },
  {
   "cell_type": "code",
   "execution_count": 17,
   "metadata": {
    "scrolled": true
   },
   "outputs": [
    {
     "data": {
      "image/png": "[encoded data removed]",
      "text/plain": [
       "<Figure size 432x288 with 1 Axes>"
      ]
     },
     "metadata": {
      "needs_background": "light"
     },
     "output_type": "display_data"
    }
   ],
   "source": [
    "import numpy as np\n",
    "import matplotlib.pyplot as plt\n",
    "from matplotlib import font_manager, rc\n",
    "\n",
    "font_path = \"c:\\\\data\\\\malgun.ttf\"   #폰트파일의 위치 실습파일안에있음\n",
    "font_name = font_manager.FontProperties(fname=font_path).get_name()\n",
    "rc('font', family=font_name)\n",
    "\n",
    "x = np.array([0, 1, 2, 3, 4, 5, 6, 7, 8, 9])\n",
    "y = np.array([9, 8, 7, 9, 8, 3, 2, 4, 3, 4])\n",
    "\n",
    "plt.plot(x, y, color='red')\n",
    "plt.title(\"신경망 오차 그래프\")\n",
    "plt.show()"
   ]
  }
 ],
 "metadata": {
  "kernelspec": {
   "display_name": "Python 3",
   "language": "python",
   "name": "python3"
  },
  "language_info": {
   "codemirror_mode": {
    "name": "ipython",
    "version": 3
   },
   "file_extension": ".py",
   "mimetype": "text/x-python",
   "name": "python",
   "nbconvert_exporter": "python",
   "pygments_lexer": "ipython3",
   "version": "3.8.5"
  },
  "toc": {
   "base_numbering": 1,
   "nav_menu": {},
   "number_sections": true,
   "sideBar": true,
   "skip_h1_title": false,
   "title_cell": "Table of Contents",
   "title_sidebar": "Contents",
   "toc_cell": false,
   "toc_position": {},
   "toc_section_display": true,
   "toc_window_display": true
  }
 },
 "nbformat": 4,
 "nbformat_minor": 4
}
